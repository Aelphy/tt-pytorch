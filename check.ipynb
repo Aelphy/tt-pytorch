{
 "cells": [
  {
   "cell_type": "code",
   "execution_count": 11,
   "metadata": {},
   "outputs": [],
   "source": [
    "import os\n",
    "os.environ[\"CUDA_DEVICE_ORDER\"]=\"PCI_BUS_ID\"\n",
    "os.environ[\"CUDA_VISIBLE_DEVICES\"]=\"5\""
   ]
  },
  {
   "cell_type": "code",
   "execution_count": 12,
   "metadata": {},
   "outputs": [],
   "source": [
    "import torch \n",
    "import numpy as np\n",
    "import torch.nn as nn\n",
    "import t3nsor as t3\n",
    "from torchtext import data\n",
    "from torchtext import datasets\n",
    "import torch.optim as optim\n",
    "import tqdm\n",
    "\n",
    "from sklearn.metrics.pairwise import cosine_similarity\n",
    "import matplotlib.pyplot as plt\n",
    "%matplotlib inline"
   ]
  },
  {
   "cell_type": "code",
   "execution_count": 13,
   "metadata": {},
   "outputs": [],
   "source": [
    "device = torch.device('cuda' if torch.cuda.is_available() else 'cpu')"
   ]
  },
  {
   "cell_type": "markdown",
   "metadata": {},
   "source": [
    "# Corpus loader"
   ]
  },
  {
   "cell_type": "code",
   "execution_count": 14,
   "metadata": {},
   "outputs": [],
   "source": [
    "from sgns.utils import *\n",
    "from sgns.models import *"
   ]
  },
  {
   "cell_type": "code",
   "execution_count": 15,
   "metadata": {},
   "outputs": [],
   "source": [
    "vocab, D = load_corpus(corpus=\"enwik9\")"
   ]
  },
  {
   "cell_type": "code",
   "execution_count": 16,
   "metadata": {},
   "outputs": [],
   "source": [
    "vocab_size = D.shape[0]\n",
    "embedding_dim = 256"
   ]
  },
  {
   "cell_type": "code",
   "execution_count": 98,
   "metadata": {},
   "outputs": [
    {
     "data": {
      "text/plain": [
       "VanillaEmbeddings(\n",
       "  (w_emb): Embedding(24227, 256)\n",
       "  (c_emb): Embedding(24227, 256)\n",
       ")"
      ]
     },
     "execution_count": 98,
     "metadata": {},
     "output_type": "execute_result"
    }
   ],
   "source": [
    "emb_model = VanillaEmbeddings(\n",
    "    vocab_size,\n",
    "    embedding_dim)\n",
    "\n",
    "model = Word2VecSGNS(\n",
    "    emb_model, neg_sampling_param=5, learning_rate=5e-4)\n",
    "\n",
    "model.emb_model.load_state_dict(\n",
    "    torch.load(\"checkpoints/enwik9_256_orig/model_1.pth.tar\"))\n",
    "model.emb_model.eval()"
   ]
  },
  {
   "cell_type": "code",
   "execution_count": 68,
   "metadata": {},
   "outputs": [],
   "source": [
    "emb_model = TTEmbeddings(\n",
    "    vocab_size,\n",
    "    embedding_dim,\n",
    "    tt_shape=[[180, 135], [16, 16]],\n",
    "    tt_rank=64)\n",
    "\n",
    "model = Word2VecSGNS(\n",
    "    emb_model, neg_sampling_param=5, learning_rate=5e-4)\n",
    "\n",
    "model.emb_model.load_state_dict(\n",
    "    torch.load(\"checkpoints/enwik9_256_64/model_1.pth.tar\"))\n",
    "model.emb_model.eval()"
   ]
  },
  {
   "cell_type": "code",
   "execution_count": 99,
   "metadata": {},
   "outputs": [],
   "source": [
    "class WordVectors:\n",
    "    \n",
    "    def __init__(self, vocabulary, embedding_matrix):\n",
    "        self.vocab = vocabulary\n",
    "        self.W = embedding_matrix\n",
    "        self.inv_vocab = {v: k for k, v in self.vocab.items()}\n",
    "        \n",
    "    def word_vector(self, word):\n",
    "        \"\"\" Takes word and returns its word vector.\n",
    "        \"\"\"\n",
    "        if word in self.vocab:\n",
    "            vec = self.W[:,int(self.vocab[word])]\n",
    "            vec = vec\n",
    "        else:\n",
    "            print (\"No such word in vocabulary.\")\n",
    "            vec = None\n",
    "            \n",
    "        return vec\n",
    "    \n",
    "    def nearest_words(self, word, top=10, display=False):\n",
    "        \"\"\" Takes word from the vocabulary and returns its top_n\n",
    "        nearest neighbors in terms of cosine similarity.\n",
    "        \"\"\"\n",
    "\n",
    "        vec = self.word_vector(word)[None, :]\n",
    "\n",
    "        cosines = cosine_similarity(self.W.T, vec)[:, 0]\n",
    "        args = np.argsort(cosines)[::-1]       \n",
    "\n",
    "        nws = []\n",
    "        for i in range(1, top+1):\n",
    "            nws.append((self.inv_vocab[args[i]], round(cosines[args[i]], 3)))\n",
    "            if (display):\n",
    "                print (self.inv_vocab[args[i]], round(cosines[args[i]], 3))\n",
    "        return nws"
   ]
  },
  {
   "cell_type": "code",
   "execution_count": 100,
   "metadata": {},
   "outputs": [],
   "source": [
    "ws = torch.LongTensor(np.arange(vocab_size))[None, :]\n",
    "emb_matrix = model.emb_model.w_emb(\n",
    "    ws.to(model._device))[0].detach().cpu().numpy()\n",
    "\n",
    "word_model = WordVectors(vocab, emb_matrix.T)"
   ]
  },
  {
   "cell_type": "code",
   "execution_count": 101,
   "metadata": {},
   "outputs": [
    {
     "data": {
      "text/plain": [
       "[('algebras', 0.944),\n",
       " ('topology', 0.922),\n",
       " ('geometry', 0.914),\n",
       " ('polynomials', 0.91),\n",
       " ('calculus', 0.908),\n",
       " ('boolean', 0.907),\n",
       " ('algebraic', 0.902),\n",
       " ('associative', 0.9),\n",
       " ('banach', 0.9),\n",
       " ('commutative', 0.898)]"
      ]
     },
     "execution_count": 101,
     "metadata": {},
     "output_type": "execute_result"
    }
   ],
   "source": [
    "word_model.nearest_words(\"algebra\")"
   ]
  },
  {
   "cell_type": "code",
   "execution_count": 102,
   "metadata": {},
   "outputs": [
    {
     "data": {
      "text/plain": [
       "[('yugoslavia', 0.939),\n",
       " ('czechoslovakia', 0.938),\n",
       " ('pavel', 0.919),\n",
       " ('russia', 0.918),\n",
       " ('bulgaria', 0.918),\n",
       " ('ottomans', 0.917),\n",
       " ('belarus', 0.916),\n",
       " ('ukraine', 0.915),\n",
       " ('soviets', 0.915),\n",
       " ('gdr', 0.915)]"
      ]
     },
     "execution_count": 102,
     "metadata": {},
     "output_type": "execute_result"
    }
   ],
   "source": [
    "word_model.nearest_words(\"ussr\")"
   ]
  },
  {
   "cell_type": "code",
   "execution_count": 103,
   "metadata": {},
   "outputs": [
    {
     "data": {
      "text/plain": [
       "[('beer', 0.956),\n",
       " ('gin', 0.949),\n",
       " ('rum', 0.948),\n",
       " ('whisky', 0.943),\n",
       " ('flavored', 0.939),\n",
       " ('brandy', 0.938),\n",
       " ('bread', 0.938),\n",
       " ('wine', 0.937),\n",
       " ('cocktails', 0.937),\n",
       " ('sausage', 0.937)]"
      ]
     },
     "execution_count": 103,
     "metadata": {},
     "output_type": "execute_result"
    }
   ],
   "source": [
    "word_model.nearest_words(\"vodka\")"
   ]
  },
  {
   "cell_type": "code",
   "execution_count": 77,
   "metadata": {},
   "outputs": [],
   "source": [
    "loss = np.load(\"checkpoints/enwik9_256_orig/loss.npz\")[\"loss\"]\n",
    "loss1 = np.load(\"checkpoints/enwik9_256_64/loss.npz\")[\"loss\"]\n",
    "loss2 = np.load(\"checkpoints/enwik9_625_64/loss.npz\")[\"loss\"]"
   ]
  },
  {
   "cell_type": "code",
   "execution_count": 78,
   "metadata": {},
   "outputs": [
    {
     "data": {
      "text/plain": [
       "[<matplotlib.lines.Line2D at 0x7f33f80a5780>]"
      ]
     },
     "execution_count": 78,
     "metadata": {},
     "output_type": "execute_result"
    },
    {
     "data": {
      "image/png": "[encoded data removed]",
      "text/plain": [
       "<Figure size 432x288 with 1 Axes>"
      ]
     },
     "metadata": {},
     "output_type": "display_data"
    }
   ],
   "source": [
    "plt.plot(loss)\n",
    "plt.plot(loss1)\n",
    "plt.plot(loss2)"
   ]
  },
  {
   "cell_type": "code",
   "execution_count": 32,
   "metadata": {},
   "outputs": [],
   "source": [
    "import csv\n",
    "from scipy.stats import spearmanr"
   ]
  },
  {
   "cell_type": "code",
   "execution_count": 61,
   "metadata": {},
   "outputs": [
    {
     "name": "stdout",
     "output_type": "stream",
     "text": [
      "Dataset:             wordsim353\n",
      "Correlation:         0.4302686779350769\n",
      "Words in vocabulary: 319 out of 352\n",
      "\n",
      "Dataset:             rw2034\n",
      "Correlation:         0.41197484104153936\n",
      "Words in vocabulary: 421 out of 2033\n",
      "\n",
      "Dataset:             mturk771\n",
      "Correlation:         0.38072332105847384\n",
      "Words in vocabulary: 743 out of 770\n",
      "\n",
      "Dataset:             simlex999\n",
      "Correlation:         0.2727231304810342\n",
      "Words in vocabulary: 940 out of 998\n",
      "\n",
      "Dataset:             rg65\n",
      "Correlation:         0.6967427156071124\n",
      "Words in vocabulary: 54 out of 64\n",
      "\n",
      "Dataset:             verb143\n",
      "Correlation:         0.3233272525398496\n",
      "Words in vocabulary: 144 out of 143\n",
      "\n",
      "Dataset:             mturk287\n",
      "Correlation:         0.23474996860731878\n",
      "Words in vocabulary: 273 out of 286\n",
      "\n",
      "Dataset:             wordsim_sim\n",
      "Correlation:         0.5557166825741511\n",
      "Words in vocabulary: 184 out of 202\n",
      "\n",
      "Dataset:             wordsim_rel\n",
      "Correlation:         0.23847321132457064\n",
      "Words in vocabulary: 230 out of 251\n",
      "\n",
      "Dataset:             men3000\n",
      "Correlation:         0.4283259907393156\n",
      "Words in vocabulary: 2624 out of 2999\n",
      "\n",
      "Dataset:             mc30\n",
      "Correlation:         0.7578371617851006\n",
      "Words in vocabulary: 28 out of 29\n",
      "\n"
     ]
    }
   ],
   "source": [
    "dir_ = \"sgns/datasets/\"\n",
    "for filename in os.listdir(dir_):\n",
    "    if filename[-3:] != \"npz\":\n",
    "    \n",
    "        print (f\"Dataset:             {filename[:-4]}\")\n",
    "\n",
    "        data = []\n",
    "        with open(dir_+filename) as csvfile:\n",
    "            spamreader = csv.reader(csvfile, delimiter=' ', quotechar='|')\n",
    "            for row in spamreader:\n",
    "                word1, word2, score = row[0].split(\";\")\n",
    "                data.append((word1, word2, np.float(score)))\n",
    "\n",
    "        true_scores = []\n",
    "        my_scores = []\n",
    "\n",
    "        for i, r in enumerate(data):\n",
    "            word1, word2, score = r\n",
    "            if word1 in word_model.vocab and word2 in word_model.vocab:\n",
    "                true_scores.append(score)\n",
    "                index1 = word_model.vocab[word1]\n",
    "                index2 = word_model.vocab[word2]\n",
    "                my_score = cosine_similarity(\n",
    "                    word_model.W[:,index1][None,:], word_model.W[:,index2][None,:])[0,0]\n",
    "                my_scores.append(my_score)\n",
    "\n",
    "        print (\"Correlation:        \", spearmanr(true_scores, my_scores)[0])\n",
    "        print (f\"Words in vocabulary: {len(my_scores)} out of {i}\")\n",
    "        print (\"\")"
   ]
  },
  {
   "cell_type": "code",
   "execution_count": 104,
   "metadata": {},
   "outputs": [
    {
     "name": "stdout",
     "output_type": "stream",
     "text": [
      "Dataset:             wordsim353\n",
      "Correlation:         0.42470523646717273\n",
      "Words in vocabulary: 319 out of 352\n",
      "\n",
      "Dataset:             rw2034\n",
      "Correlation:         0.4073292597966276\n",
      "Words in vocabulary: 421 out of 2033\n",
      "\n",
      "Dataset:             mturk771\n",
      "Correlation:         0.3652367572585445\n",
      "Words in vocabulary: 743 out of 770\n",
      "\n",
      "Dataset:             simlex999\n",
      "Correlation:         0.2589006201762877\n",
      "Words in vocabulary: 940 out of 998\n",
      "\n",
      "Dataset:             rg65\n",
      "Correlation:         0.6464253731953941\n",
      "Words in vocabulary: 54 out of 64\n",
      "\n",
      "Dataset:             verb143\n",
      "Correlation:         0.29024278116714125\n",
      "Words in vocabulary: 144 out of 143\n",
      "\n",
      "Dataset:             mturk287\n",
      "Correlation:         0.26446453108301604\n",
      "Words in vocabulary: 273 out of 286\n",
      "\n",
      "Dataset:             wordsim_sim\n",
      "Correlation:         0.540837709669679\n",
      "Words in vocabulary: 184 out of 202\n",
      "\n",
      "Dataset:             wordsim_rel\n",
      "Correlation:         0.233255068696923\n",
      "Words in vocabulary: 230 out of 251\n",
      "\n",
      "Dataset:             men3000\n",
      "Correlation:         0.414725247670482\n",
      "Words in vocabulary: 2624 out of 2999\n",
      "\n",
      "Dataset:             mc30\n",
      "Correlation:         0.6704997143105894\n",
      "Words in vocabulary: 28 out of 29\n",
      "\n"
     ]
    }
   ],
   "source": [
    "dir_ = \"sgns/datasets/\"\n",
    "for filename in os.listdir(dir_):\n",
    "    if filename[-3:] != \"npz\":\n",
    "    \n",
    "        print (f\"Dataset:             {filename[:-4]}\")\n",
    "\n",
    "        data = []\n",
    "        with open(dir_+filename) as csvfile:\n",
    "            spamreader = csv.reader(csvfile, delimiter=' ', quotechar='|')\n",
    "            for row in spamreader:\n",
    "                word1, word2, score = row[0].split(\";\")\n",
    "                data.append((word1, word2, np.float(score)))\n",
    "\n",
    "        true_scores = []\n",
    "        my_scores = []\n",
    "\n",
    "        for i, r in enumerate(data):\n",
    "            word1, word2, score = r\n",
    "            if word1 in word_model.vocab and word2 in word_model.vocab:\n",
    "                true_scores.append(score)\n",
    "                index1 = word_model.vocab[word1]\n",
    "                index2 = word_model.vocab[word2]\n",
    "                my_score = cosine_similarity(\n",
    "                    word_model.W[:,index1][None,:], word_model.W[:,index2][None,:])[0,0]\n",
    "                my_scores.append(my_score)\n",
    "\n",
    "        print (\"Correlation:        \", spearmanr(true_scores, my_scores)[0])\n",
    "        print (f\"Words in vocabulary: {len(my_scores)} out of {i}\")\n",
    "        print (\"\")"
   ]
  },
  {
   "cell_type": "code",
   "execution_count": 46,
   "metadata": {},
   "outputs": [
    {
     "data": {
      "text/plain": [
       "202"
      ]
     },
     "execution_count": 46,
     "metadata": {},
     "output_type": "execute_result"
    }
   ],
   "source": [
    "i"
   ]
  },
  {
   "cell_type": "code",
   "execution_count": 41,
   "metadata": {},
   "outputs": [],
   "source": [
    "true_scores = []\n",
    "my_scores = []\n",
    "\n",
    "for r in data:\n",
    "    word1, word2, score = r\n",
    "    if word1 in word_model.vocab and word2 in word_model.vocab:\n",
    "        true_scores.append(score)\n",
    "        index1 = word_model.vocab[word1]\n",
    "        index2 = word_model.vocab[word2]\n",
    "        my_score = cosine_similarity(\n",
    "            word_model.W[:,index1][None,:], word_model.W[:,index2][None,:])[0,0]\n",
    "        my_scores.append(my_score)"
   ]
  },
  {
   "cell_type": "code",
   "execution_count": 42,
   "metadata": {},
   "outputs": [
    {
     "data": {
      "text/plain": [
       "SpearmanrResult(correlation=0.5557166825741511, pvalue=2.6549636984624055e-16)"
      ]
     },
     "execution_count": 42,
     "metadata": {},
     "output_type": "execute_result"
    }
   ],
   "source": [
    "spearmanr(true_scores, my_scores)"
   ]
  },
  {
   "cell_type": "code",
   "execution_count": 43,
   "metadata": {},
   "outputs": [
    {
     "data": {
      "text/plain": [
       "184"
      ]
     },
     "execution_count": 43,
     "metadata": {},
     "output_type": "execute_result"
    }
   ],
   "source": [
    "len(my_scores)"
   ]
  },
  {
   "cell_type": "code",
   "execution_count": null,
   "metadata": {},
   "outputs": [],
   "source": []
  }
 ],
 "metadata": {
  "kernelspec": {
   "display_name": "Python 3",
   "language": "python",
   "name": "python3"
  },
  "language_info": {
   "codemirror_mode": {
    "name": "ipython",
    "version": 3
   },
   "file_extension": ".py",
   "mimetype": "text/x-python",
   "name": "python",
   "nbconvert_exporter": "python",
   "pygments_lexer": "ipython3",
   "version": "3.6.5"
  }
 },
 "nbformat": 4,
 "nbformat_minor": 2
}
