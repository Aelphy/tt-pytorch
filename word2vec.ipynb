{
 "cells": [
  {
   "cell_type": "code",
   "execution_count": 1,
   "metadata": {},
   "outputs": [],
   "source": [
    "import os\n",
    "os.environ[\"CUDA_DEVICE_ORDER\"]=\"PCI_BUS_ID\"\n",
    "os.environ[\"CUDA_VISIBLE_DEVICES\"]=\"5\""
   ]
  },
  {
   "cell_type": "code",
   "execution_count": 2,
   "metadata": {},
   "outputs": [],
   "source": [
    "import torch \n",
    "import numpy as np\n",
    "import torch.nn as nn\n",
    "import t3nsor as t3\n",
    "from torchtext import data\n",
    "from torchtext import datasets\n",
    "import torch.optim as optim"
   ]
  },
  {
   "cell_type": "code",
   "execution_count": 3,
   "metadata": {},
   "outputs": [],
   "source": [
    "device = torch.device('cuda' if torch.cuda.is_available() else 'cpu')"
   ]
  },
  {
   "cell_type": "code",
   "execution_count": 4,
   "metadata": {},
   "outputs": [],
   "source": [
    "TEXT = data.Field(tokenize='spacy');\n",
    "LABEL = data.LabelField(dtype=torch.float);"
   ]
  },
  {
   "cell_type": "markdown",
   "metadata": {},
   "source": [
    "# Corpus loader"
   ]
  },
  {
   "cell_type": "code",
   "execution_count": 5,
   "metadata": {},
   "outputs": [],
   "source": [
    "import re\n",
    "file = open(\"data/enwik8.txt\", \"r\")\n",
    "doclist = [ line for line in file ]\n",
    "docstr = '' . join(doclist)\n",
    "sentences = re.split(r'[.!?]', docstr)\n",
    "sentences = [sentence.split() for sentence in sentences if len(sentence) > 1]"
   ]
  },
  {
   "cell_type": "code",
   "execution_count": 6,
   "metadata": {},
   "outputs": [
    {
     "data": {
      "text/plain": [
       "889156"
      ]
     },
     "execution_count": 6,
     "metadata": {},
     "output_type": "execute_result"
    }
   ],
   "source": [
    "len(sentences)"
   ]
  },
  {
   "cell_type": "code",
   "execution_count": 7,
   "metadata": {},
   "outputs": [],
   "source": [
    "# Load enwik 8\n",
    "data = np.loadtxt(\"data/enwik8.txt\", dtype=str, delimiter='.')\n",
    "\n",
    "# Create a list of sentences\n",
    "sentences = [data[i].split() for i in data.nonzero()[0]]"
   ]
  },
  {
   "cell_type": "code",
   "execution_count": 8,
   "metadata": {},
   "outputs": [],
   "source": [
    "def create_vocabulary(sentences, r=200):\n",
    "    prevocabulary = {}\n",
    "    for sentence in sentences:\n",
    "        for word in sentence:\n",
    "            if word in prevocabulary:\n",
    "                prevocabulary[word] += 1\n",
    "            else:\n",
    "                prevocabulary[word] = 1\n",
    "\n",
    "    vocabulary = {}\n",
    "    idx = 0\n",
    "    for word in prevocabulary:\n",
    "        if (prevocabulary[word] > r):\n",
    "            vocabulary[word] = idx\n",
    "            idx += 1\n",
    "\n",
    "    return vocabulary"
   ]
  },
  {
   "cell_type": "code",
   "execution_count": 9,
   "metadata": {},
   "outputs": [],
   "source": [
    "vocab = create_vocabulary(sentences)\n",
    "inv_vocab = {v: k for k, v in vocab.items()}"
   ]
  },
  {
   "cell_type": "code",
   "execution_count": 10,
   "metadata": {},
   "outputs": [],
   "source": [
    "def create_corpus_matrix(sentences, vocabulary, window_size=5):\n",
    "    \"\"\"\n",
    "    Create a co-occurrence matrix D from training corpus.\n",
    "    \"\"\"\n",
    "\n",
    "    dim = len(vocabulary)\n",
    "    D = np.zeros((dim, dim))\n",
    "    s = window_size//2\n",
    "\n",
    "    for sentence in sentences:\n",
    "        l = len(sentence)\n",
    "        for i in range(l):\n",
    "            for j in range(max(0,i-s), min(i+s+1,l)):\n",
    "                if (i != j and (sentence[i] in vocabulary) \\\n",
    "                    and (sentence[j] in vocabulary)):\n",
    "                    c = vocabulary[sentence[j]]\n",
    "                    w = vocabulary[sentence[i]]\n",
    "                    D[c][w] += 1                  \n",
    "    return D.T"
   ]
  },
  {
   "cell_type": "code",
   "execution_count": 11,
   "metadata": {},
   "outputs": [],
   "source": [
    "D = create_corpus_matrix(sentences, vocab)"
   ]
  },
  {
   "cell_type": "code",
   "execution_count": 12,
   "metadata": {},
   "outputs": [],
   "source": [
    "import torch\n",
    "import torch.nn as nn\n",
    "import torch.optim as optim\n",
    "from torch.utils.data import Dataset, Sampler, DataLoader\n",
    "\n",
    "class CorpusDataset(Dataset):\n",
    "    def __init__(self, corpus_matrix):\n",
    "        self.D = corpus_matrix\n",
    "        self.B = self.D.sum(axis=0, keepdims=True) * \\\n",
    "            self.D.sum(axis=1, keepdims=True) / self.D.sum()\n",
    "        self.vocab_size = self.D.shape[0]\n",
    "        self.w, self.c = corpus_matrix.nonzero()\n",
    "        self.len = len(self.w)\n",
    "        self.data = {\n",
    "            (self.w[i], self.c[i]): self.D[self.w[i], self.c[i]]\n",
    "            for i in range(self.len)}\n",
    "        self.negative = {\n",
    "            (self.w[i], self.c[i]): self.B[self.w[i], self.c[i]]\n",
    "            for i in range(self.len)}\n",
    "        \n",
    "    def __getitem__(self, index):\n",
    "        i, j = self.w[index], self.c[index]\n",
    "        dct = {\n",
    "            \"word\": i,\n",
    "            \"context\": j,\n",
    "            \"count\": self.data[(i, j)].astype(np.float32),\n",
    "            \"negative\": self.negative[(i, j)].astype(np.float32)}\n",
    "        return dct\n",
    "    \n",
    "    def __len__(self):\n",
    "        return self.len\n",
    "    \n",
    "\n",
    "class CorpusSampler(Sampler):\n",
    "    def __init__(self, dataset):\n",
    "        self.dataset = dataset\n",
    "        self.len = len(self.dataset)\n",
    "        self.indices = np.arange(self.len)\n",
    "        np.random.shuffle(self.indices)\n",
    "    \n",
    "    def __iter__(self):\n",
    "        return iter(self.indices)\n",
    "    \n",
    "    def __len__(self):\n",
    "        return self.len"
   ]
  },
  {
   "cell_type": "code",
   "execution_count": 13,
   "metadata": {},
   "outputs": [],
   "source": [
    "class SkipGramModel(nn.Module):\n",
    "    def __init__(self, vocab_size, embedding_dim):\n",
    "        super().__init__()\n",
    "        self.embedding_dim = embedding_dim\n",
    "        self.w_emb = nn.Embedding(\n",
    "            num_embeddings=vocab_size,\n",
    "            embedding_dim=embedding_dim)\n",
    "        self.c_emb = nn.Embedding(\n",
    "            num_embeddings=vocab_size,\n",
    "            embedding_dim=embedding_dim)\n",
    "        self.init_emb()\n",
    "\n",
    "    def init_emb(self):\n",
    "        \"\"\"Initialize embedding weight like word2vec.\n",
    "        The w_emb is a uniform distribution in\n",
    "        [-0.5/em_size, 0.5/emb_size], and the elements\n",
    "        of c_embedding are zeroes.\n",
    "        \"\"\"\n",
    "        initrange = 0.5 / self.embedding_dim\n",
    "        self.w_emb.weight.data.uniform_(-initrange, initrange)\n",
    "        self.c_emb.weight.data.uniform_(-0, 0)\n",
    "\n",
    "    def forward(self, word_indices, context_indices):\n",
    "        w = self.w_emb.forward(word_indices)\n",
    "        c = self.c_emb.forward(context_indices)\n",
    "        return w, c"
   ]
  },
  {
   "cell_type": "code",
   "execution_count": 14,
   "metadata": {},
   "outputs": [],
   "source": [
    "class WordEmbeeddings(nn.Module):\n",
    "    def __init__(self, vocab_size, embedding_dim):\n",
    "        super().__init__()\n",
    "        self.emb = nn.Embedding(\n",
    "            num_embeddings=vocab_size,\n",
    "            embedding_dim=embedding_dim)"
   ]
  },
  {
   "cell_type": "code",
   "execution_count": 15,
   "metadata": {},
   "outputs": [],
   "source": [
    "def log1p_exp(input_tensor):\n",
    "    \"\"\" Computationally stable function for computing log(1+exp(x)).\n",
    "    \"\"\"\n",
    "    x = input_tensor * input_tensor.ge(0).to(torch.float32)\n",
    "    res = x + torch.log1p(\n",
    "        torch.exp(-torch.abs(input_tensor)))\n",
    "    return res\n",
    "\n",
    "\n",
    "class Word2Vec:\n",
    "    def __init__(\n",
    "            self,\n",
    "            skip_gram_model,\n",
    "            #context_embedding,\n",
    "            neg_sampling_param=5,\n",
    "            learning_rate=0.025):\n",
    "        self._device = torch.device(\n",
    "            \"cuda\" if torch.cuda.is_available() else \"cpu\")\n",
    "        #self.w_emb = word_embedding.to(self._device)\n",
    "        #self.c_emb = context_embedding.to(self._device)\n",
    "        self.skip_gram = skip_gram_model.to(self._device)\n",
    "        self.optimizer = optim.Adam(\n",
    "            self.skip_gram.parameters(), lr=learning_rate)\n",
    "        #self.w_optimizer = optim.SGD(\n",
    "        #    self.w_emb.parameters(), lr=learning_rate)\n",
    "        #self.c_optimizer = optim.SGD(\n",
    "        #    self.c_emb.parameters(), lr=learning_rate)\n",
    "        self.k = neg_sampling_param\n",
    "        \n",
    "    def to_tensor(self, *args, **kwargs):\n",
    "        return torch.Tensor(*args, **kwargs).to(self._device)\n",
    "        \n",
    "    def train(self, batch):\n",
    "        words, contexts, counts, negatives = \\\n",
    "            batch[\"word\"], batch[\"context\"], \\\n",
    "            batch[\"count\"], batch[\"negative\"]\n",
    "        words = torch.LongTensor(words).to(self._device)\n",
    "        contexts = torch.LongTensor(contexts).to(self._device)\n",
    "        counts = self.to_tensor(counts)\n",
    "        negatives = self.to_tensor(negatives)\n",
    "        \n",
    "        #w_emb = self.w_emb(words)\n",
    "        #c_emb = self.c_emb(contexts)\n",
    "        w_emb, c_emb = self.skip_gram(words, contexts)\n",
    "        wc = torch.einsum(\"bi,bi->b\", (w_emb, c_emb))\n",
    "        loss = (log1p_exp(-wc) * counts + \\\n",
    "            self.k * negatives * log1p_exp(wc)).mean()\n",
    "        \n",
    "        # update embeddings parameters\n",
    "        #self.w_optimizer.zero_grad()\n",
    "        #self.c_optimizer.zero_grad()\n",
    "        self.optimizer.zero_grad()\n",
    "        loss.backward()\n",
    "        self.optimizer.step()\n",
    "        #self.w_optimizer.step()\n",
    "        #self.c_optimizer.step()\n",
    "        \n",
    "        metrics = {\"loss\": loss.item()}\n",
    "        return metrics"
   ]
  },
  {
   "cell_type": "code",
   "execution_count": 16,
   "metadata": {},
   "outputs": [],
   "source": [
    "dataset = CorpusDataset(D)"
   ]
  },
  {
   "cell_type": "code",
   "execution_count": 17,
   "metadata": {},
   "outputs": [],
   "source": [
    "vocab_size = D.shape[0]\n",
    "embedding_dim = 100\n",
    "batch_size = 50\n",
    "\n",
    "#word_emb = WordEmbedding(vocab_size, embedding_dim)\n",
    "#context_emb = WordEmbedding(vocab_size, embedding_dim)\n",
    "skip_gram_model = SkipGramModel(vocab_size, embedding_dim)"
   ]
  },
  {
   "cell_type": "code",
   "execution_count": 18,
   "metadata": {},
   "outputs": [],
   "source": [
    "model = Word2Vec(skip_gram_model, learning_rate=1e-3)"
   ]
  },
  {
   "cell_type": "code",
   "execution_count": 19,
   "metadata": {},
   "outputs": [],
   "source": [
    "import tqdm"
   ]
  },
  {
   "cell_type": "code",
   "execution_count": 20,
   "metadata": {},
   "outputs": [
    {
     "name": "stderr",
     "output_type": "stream",
     "text": [
      "71582it [03:12, 371.53it/s]\n"
     ]
    },
    {
     "name": "stdout",
     "output_type": "stream",
     "text": [
      "Loss:  0.47098362212908385\n",
      "---------------------\n"
     ]
    },
    {
     "name": "stderr",
     "output_type": "stream",
     "text": [
      "71582it [03:12, 371.06it/s]"
     ]
    },
    {
     "name": "stdout",
     "output_type": "stream",
     "text": [
      "Loss:  0.42904599728979576\n",
      "---------------------\n"
     ]
    },
    {
     "name": "stderr",
     "output_type": "stream",
     "text": [
      "\n",
      "71582it [03:15, 366.69it/s]"
     ]
    },
    {
     "name": "stdout",
     "output_type": "stream",
     "text": [
      "Loss:  0.4216364210821891\n",
      "---------------------\n"
     ]
    },
    {
     "name": "stderr",
     "output_type": "stream",
     "text": [
      "\n",
      "71582it [03:11, 373.54it/s]\n"
     ]
    },
    {
     "name": "stdout",
     "output_type": "stream",
     "text": [
      "Loss:  0.417201519145413\n",
      "---------------------\n"
     ]
    },
    {
     "name": "stderr",
     "output_type": "stream",
     "text": [
      "71582it [03:13, 370.73it/s]\n"
     ]
    },
    {
     "name": "stdout",
     "output_type": "stream",
     "text": [
      "Loss:  0.41536775999711906\n",
      "---------------------\n"
     ]
    },
    {
     "name": "stderr",
     "output_type": "stream",
     "text": [
      "71582it [03:12, 372.28it/s]\n"
     ]
    },
    {
     "name": "stdout",
     "output_type": "stream",
     "text": [
      "Loss:  0.41330510919017016\n",
      "---------------------\n"
     ]
    },
    {
     "name": "stderr",
     "output_type": "stream",
     "text": [
      "71582it [03:10, 375.95it/s]\n"
     ]
    },
    {
     "name": "stdout",
     "output_type": "stream",
     "text": [
      "Loss:  0.4127467479686759\n",
      "---------------------\n"
     ]
    },
    {
     "name": "stderr",
     "output_type": "stream",
     "text": [
      "71582it [03:20, 357.61it/s]\n"
     ]
    },
    {
     "name": "stdout",
     "output_type": "stream",
     "text": [
      "Loss:  0.41200741522530193\n",
      "---------------------\n"
     ]
    },
    {
     "name": "stderr",
     "output_type": "stream",
     "text": [
      "71582it [03:14, 367.47it/s]"
     ]
    },
    {
     "name": "stdout",
     "output_type": "stream",
     "text": [
      "Loss:  0.4112967561578341\n",
      "---------------------\n"
     ]
    },
    {
     "name": "stderr",
     "output_type": "stream",
     "text": [
      "\n"
     ]
    }
   ],
   "source": [
    "epoch_losses = []\n",
    "losses = []\n",
    "\n",
    "for epoch in range(1, 10):\n",
    "    sampler = CorpusSampler(dataset)\n",
    "    loader = DataLoader(\n",
    "        dataset=dataset,\n",
    "        batch_size=batch_size,\n",
    "        shuffle=False,\n",
    "        num_workers=1,\n",
    "        pin_memory=torch.cuda.is_available(),\n",
    "        sampler=sampler)\n",
    "\n",
    "    for i, batch in tqdm.tqdm(enumerate(loader)):\n",
    "        metrics = model.train(batch)\n",
    "        losses.append(metrics[\"loss\"])\n",
    "        #if (i % 100 == 0):\n",
    "        #    print (metrics[\"loss\"])\n",
    "\n",
    "    if epoch % 1 == 0:\n",
    "        avg_loss = np.mean(losses) / batch_size\n",
    "        epoch_losses.append(avg_loss)\n",
    "        losses = []\n",
    "        print (\"Loss: \", avg_loss)\n",
    "        print (\"---------------------\")"
   ]
  },
  {
   "cell_type": "code",
   "execution_count": 21,
   "metadata": {},
   "outputs": [],
   "source": [
    "from sklearn.metrics.pairwise import cosine_similarity\n",
    "import matplotlib.pyplot as plt\n",
    "%matplotlib inline"
   ]
  },
  {
   "cell_type": "code",
   "execution_count": 22,
   "metadata": {},
   "outputs": [
    {
     "data": {
      "text/plain": [
       "[<matplotlib.lines.Line2D at 0x7fa486d9f7f0>]"
      ]
     },
     "execution_count": 22,
     "metadata": {},
     "output_type": "execute_result"
    },
    {
     "data": {
      "image/png": "[encoded data removed]",
      "text/plain": [
       "<Figure size 432x288 with 1 Axes>"
      ]
     },
     "metadata": {},
     "output_type": "display_data"
    }
   ],
   "source": [
    "plt.plot(epoch_losses)"
   ]
  },
  {
   "cell_type": "code",
   "execution_count": 24,
   "metadata": {},
   "outputs": [],
   "source": [
    "ws = torch.LongTensor(np.arange(vocab_size))[None, :]\n",
    "emb_matrix = model.skip_gram.w_emb(ws.to(model._device))[0].detach().cpu().numpy()"
   ]
  },
  {
   "cell_type": "code",
   "execution_count": 25,
   "metadata": {},
   "outputs": [],
   "source": [
    "class WordVectors:\n",
    "    \n",
    "    def __init__(self, vocabulary, embedding_matrix):\n",
    "        self.vocab = vocabulary\n",
    "        self.W = embedding_matrix\n",
    "        self.inv_vocab = {v: k for k, v in self.vocab.items()}\n",
    "        \n",
    "    def word_vector(self, word):\n",
    "        \"\"\" Takes word and returns its word vector.\n",
    "        \"\"\"\n",
    "        if word in self.vocab:\n",
    "            vec = self.W[:,int(self.vocab[word])]\n",
    "            vec = vec\n",
    "        else:\n",
    "            print (\"No such word in vocabulary.\")\n",
    "            vec = None\n",
    "            \n",
    "        return vec\n",
    "    \n",
    "    def nearest_words(self, word, top=10, display=False):\n",
    "        \"\"\" Takes word from the vocabulary and returns its top_n\n",
    "        nearest neighbors in terms of cosine similarity.\n",
    "        \"\"\"\n",
    "\n",
    "        vec = self.word_vector(word)[None, :]\n",
    "\n",
    "        cosines = cosine_similarity(self.W.T, vec)[:, 0]\n",
    "        args = np.argsort(cosines)[::-1]       \n",
    "\n",
    "        nws = []\n",
    "        for i in range(1, top+1):\n",
    "            nws.append((self.inv_vocab[args[i]], round(cosines[args[i]], 3)))\n",
    "            if (display):\n",
    "                print (self.inv_vocab[args[i]], round(cosines[args[i]], 3))\n",
    "        return nws"
   ]
  },
  {
   "cell_type": "code",
   "execution_count": 26,
   "metadata": {},
   "outputs": [],
   "source": [
    "word_model = WordVectors(vocab, emb_matrix.T)"
   ]
  },
  {
   "cell_type": "code",
   "execution_count": 45,
   "metadata": {},
   "outputs": [
    {
     "data": {
      "text/plain": [
       "[('linguistic', 0.826),\n",
       " ('via', 0.82),\n",
       " ('org', 0.816),\n",
       " ('rough', 0.814),\n",
       " ('offer', 0.813),\n",
       " ('enter', 0.812),\n",
       " ('horse', 0.811),\n",
       " ('output', 0.808),\n",
       " ('bow', 0.807),\n",
       " ('screen', 0.802)]"
      ]
     },
     "execution_count": 45,
     "metadata": {},
     "output_type": "execute_result"
    }
   ],
   "source": [
    "word_model.nearest_words(\"bear\")"
   ]
  },
  {
   "cell_type": "code",
   "execution_count": 29,
   "metadata": {},
   "outputs": [
    {
     "data": {
      "text/plain": [
       "[('nine', 0.81),\n",
       " ('two', 0.728),\n",
       " ('seven', 0.725),\n",
       " ('eight', 0.714),\n",
       " ('six', 0.71),\n",
       " ('five', 0.693),\n",
       " ('october', 0.674),\n",
       " ('four', 0.669),\n",
       " ('three', 0.667),\n",
       " ('zero', 0.65)]"
      ]
     },
     "execution_count": 29,
     "metadata": {},
     "output_type": "execute_result"
    }
   ],
   "source": [
    "word_model.nearest_words(\"one\")"
   ]
  },
  {
   "cell_type": "code",
   "execution_count": null,
   "metadata": {},
   "outputs": [],
   "source": []
  }
 ],
 "metadata": {
  "kernelspec": {
   "display_name": "Python 3",
   "language": "python",
   "name": "python3"
  },
  "language_info": {
   "codemirror_mode": {
    "name": "ipython",
    "version": 3
   },
   "file_extension": ".py",
   "mimetype": "text/x-python",
   "name": "python",
   "nbconvert_exporter": "python",
   "pygments_lexer": "ipython3",
   "version": "3.6.5"
  }
 },
 "nbformat": 4,
 "nbformat_minor": 2
}
