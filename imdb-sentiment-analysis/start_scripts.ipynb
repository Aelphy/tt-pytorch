{
 "cells": [
  {
   "cell_type": "code",
   "execution_count": 1,
   "metadata": {},
   "outputs": [],
   "source": [
    "import subprocess\n",
    "import numpy as np"
   ]
  },
  {
   "cell_type": "code",
   "execution_count": 2,
   "metadata": {},
   "outputs": [],
   "source": [
    "# train baseline"
   ]
  },
  {
   "cell_type": "code",
   "execution_count": 3,
   "metadata": {},
   "outputs": [],
   "source": [
    "embed_shapes_full = [64, 128, 256]\n",
    "seq_len = [500, None]"
   ]
  },
  {
   "cell_type": "code",
   "execution_count": 4,
   "metadata": {},
   "outputs": [],
   "source": [
    "script_full = 'python train_lstm.py --use_tt False --voc_shape 25000 --embed_shape {} --gpu {} --fout {} {} --n_epochs 50'"
   ]
  },
  {
   "cell_type": "code",
   "execution_count": 5,
   "metadata": {},
   "outputs": [],
   "source": [
    "path = 'logs/no_tt_embed_{}_seq_{}.pickle'"
   ]
  },
  {
   "cell_type": "code",
   "execution_count": 8,
   "metadata": {},
   "outputs": [
    {
     "name": "stdout",
     "output_type": "stream",
     "text": [
      "python train_lstm.py --use_tt False --voc_shape 25000 --embed_shape 64 --gpu 6 --fout logs/no_tt_embed_64_seq_500.pickle --max_len 500 --n_epochs 50\n",
      "python train_lstm.py --use_tt False --voc_shape 25000 --embed_shape 64 --gpu 4 --fout logs/no_tt_embed_64_seq_None.pickle  --n_epochs 50\n",
      "python train_lstm.py --use_tt False --voc_shape 25000 --embed_shape 128 --gpu 1 --fout logs/no_tt_embed_128_seq_500.pickle --max_len 500 --n_epochs 50\n",
      "python train_lstm.py --use_tt False --voc_shape 25000 --embed_shape 128 --gpu 4 --fout logs/no_tt_embed_128_seq_None.pickle  --n_epochs 50\n",
      "python train_lstm.py --use_tt False --voc_shape 25000 --embed_shape 256 --gpu 4 --fout logs/no_tt_embed_256_seq_500.pickle --max_len 500 --n_epochs 50\n",
      "python train_lstm.py --use_tt False --voc_shape 25000 --embed_shape 256 --gpu 3 --fout logs/no_tt_embed_256_seq_None.pickle  --n_epochs 50\n"
     ]
    }
   ],
   "source": [
    "for shape in embed_shapes_full:\n",
    "    for l in seq_len:\n",
    "        out_name = path.format(shape, l)\n",
    "        \n",
    "        if l is None:\n",
    "            len_str = \"\"\n",
    "        else:\n",
    "            len_str = \"--max_len {}\".format(l)\n",
    "        \n",
    "        gpu_id = np.random.randint(1, 8, 1)[0]\n",
    "        \n",
    "        script = script_full.format(shape, gpu_id, out_name, len_str)\n",
    "        print(script)\n",
    "        proc = subprocess.Popen([script], shell=True, stdin=None, stdout=None, stderr=None, close_fds=True)\n",
    "        "
   ]
  },
  {
   "cell_type": "code",
   "execution_count": 9,
   "metadata": {},
   "outputs": [],
   "source": [
    "# train tt"
   ]
  },
  {
   "cell_type": "code",
   "execution_count": null,
   "metadata": {},
   "outputs": [],
   "source": [
    "# 25000 = 5 x 2 x 5 x 2 x 5 x 2 x 5 x 5\n"
   ]
  },
  {
   "cell_type": "code",
   "execution_count": 6,
   "metadata": {},
   "outputs": [],
   "source": [
    "def arr2str(x):\n",
    "    x = list(map(str, x))\n",
    "    return \" \".join(x)\n",
    "\n",
    "\n",
    "def arr2title(x):\n",
    "    x = list(map(str, x))\n",
    "    return \"_\".join(x)"
   ]
  },
  {
   "cell_type": "code",
   "execution_count": 10,
   "metadata": {},
   "outputs": [],
   "source": [
    "shapes_voc = [[5, 2, 5, 2, 5, 2, 5, 5], [10, 10, 10, 5, 5], [50, 50, 10]]\n",
    "shapes_embed = [[2, 2, 2, 2, 2, 2, 1, 1], [4, 4, 2, 2, 2], [8, 8, 4]]\n",
    "seq_len = [500, None]"
   ]
  },
  {
   "cell_type": "code",
   "execution_count": 11,
   "metadata": {},
   "outputs": [],
   "source": [
    "script_full = 'python train_lstm.py --use_tt True --voc_shape {} --embed_shape {} --gpu {} --fout {} {} --n_epochs 50 --permute True'\n",
    "\n",
    "path = 'logs/tt_voc_{}_embed_{}_seq_{}_permute.pickle'"
   ]
  },
  {
   "cell_type": "code",
   "execution_count": 12,
   "metadata": {},
   "outputs": [
    {
     "name": "stdout",
     "output_type": "stream",
     "text": [
      "python train_lstm.py --use_tt True --voc_shape 5 2 5 2 5 2 5 5 --embed_shape 2 2 2 2 2 2 1 1 --gpu 4 --fout logs/tt_voc_5_2_5_2_5_2_5_5_embed_2_2_2_2_2_2_1_1_seq_500_permute.pickle --max_len 500 --n_epochs 50 --permute True\n",
      "python train_lstm.py --use_tt True --voc_shape 5 2 5 2 5 2 5 5 --embed_shape 2 2 2 2 2 2 1 1 --gpu 3 --fout logs/tt_voc_5_2_5_2_5_2_5_5_embed_2_2_2_2_2_2_1_1_seq_None_permute.pickle  --n_epochs 50 --permute True\n",
      "python train_lstm.py --use_tt True --voc_shape 10 10 10 5 5 --embed_shape 4 4 2 2 2 --gpu 4 --fout logs/tt_voc_10_10_10_5_5_embed_4_4_2_2_2_seq_500_permute.pickle --max_len 500 --n_epochs 50 --permute True\n",
      "python train_lstm.py --use_tt True --voc_shape 10 10 10 5 5 --embed_shape 4 4 2 2 2 --gpu 5 --fout logs/tt_voc_10_10_10_5_5_embed_4_4_2_2_2_seq_None_permute.pickle  --n_epochs 50 --permute True\n",
      "python train_lstm.py --use_tt True --voc_shape 50 50 10 --embed_shape 8 8 4 --gpu 2 --fout logs/tt_voc_50_50_10_embed_8_8_4_seq_500_permute.pickle --max_len 500 --n_epochs 50 --permute True\n",
      "python train_lstm.py --use_tt True --voc_shape 50 50 10 --embed_shape 8 8 4 --gpu 1 --fout logs/tt_voc_50_50_10_embed_8_8_4_seq_None_permute.pickle  --n_epochs 50 --permute True\n"
     ]
    }
   ],
   "source": [
    "for shape in zip(shapes_voc, shapes_embed):\n",
    "    for l in seq_len:\n",
    "        out_name = path.format(arr2title(shape[0]), arr2title(shape[1]), l)\n",
    "        \n",
    "        if l is None:\n",
    "            len_str = \"\"\n",
    "        else:\n",
    "            len_str = \"--max_len {}\".format(l)\n",
    "        \n",
    "        gpu_id = np.random.randint(1, 8, 1)[0]\n",
    "        script = script_full.format(arr2str(shape[0]), arr2str(shape[1]), gpu_id, out_name, len_str)\n",
    "        \n",
    "        print(script)\n",
    "        proc = subprocess.Popen([script], shell=True, stdin=None, stdout=None, stderr=None, close_fds=True)"
   ]
  },
  {
   "cell_type": "code",
   "execution_count": null,
   "metadata": {},
   "outputs": [],
   "source": []
  }
 ],
 "metadata": {
  "kernelspec": {
   "display_name": "Python 3",
   "language": "python",
   "name": "python3"
  },
  "language_info": {
   "codemirror_mode": {
    "name": "ipython",
    "version": 3
   },
   "file_extension": ".py",
   "mimetype": "text/x-python",
   "name": "python",
   "nbconvert_exporter": "python",
   "pygments_lexer": "ipython3",
   "version": "3.6.5"
  }
 },
 "nbformat": 4,
 "nbformat_minor": 2
}
