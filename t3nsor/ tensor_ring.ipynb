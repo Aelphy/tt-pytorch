{
 "cells": [
  {
   "cell_type": "code",
   "execution_count": 1,
   "metadata": {},
   "outputs": [],
   "source": [
    "import torch\n",
    "import numpy as np\n",
    "import torch.nn as nn\n",
    "import t3nsor as t3"
   ]
  },
  {
   "cell_type": "code",
   "execution_count": 2,
   "metadata": {},
   "outputs": [],
   "source": [
    "class TensorRing(object):\n",
    "    def __init__(self, tr_cores, shape=None, tr_ranks=None, convert_to_tensors=True):\n",
    "        #tr_cores = list(tr_cores)\n",
    "        if convert_to_tensors:\n",
    "            for i in range(len(tr_cores)):\n",
    "                tr_cores[i] = torch.Tensor(tr_cores[i])\n",
    "\n",
    "        self._tr_cores = tr_cores\n",
    "\n",
    "        if len(self._tr_cores[0].shape) == 4:\n",
    "            self._is_tr_matrix = True\n",
    "        else:\n",
    "            self._is_tr_matrix = False\n",
    "\n",
    "        if self._is_tr_matrix:\n",
    "            self._raw_shape = [[tr_core.shape[1] for tr_core in self._tr_cores],\n",
    "                               [tr_core.shape[2] for tr_core in self._tr_cores]]\n",
    "            self._shape = [int(np.prod(self._raw_shape[0])), int(np.prod(self._raw_shape[1]))]\n",
    "            self._ndims = len(self._raw_shape[0])\n",
    "\n",
    "        else:\n",
    "            self._raw_shape = [tr_core.shape[1] for tr_core in self._tr_cores]\n",
    "            self._shape = [tr_core.shape[1] for tr_core in self._tr_cores]\n",
    "            self._ndims = len(self._raw_shape)\n",
    "\n",
    "        self._ranks = [tr_core.shape[0] for tr_core in self._tr_cores] + [1, ]\n",
    "        self._is_parameter = False\n",
    "        self._parameter = None\n",
    "        self._dof = np.sum([np.prod(list(tr_core.shape)) for tr_core in self._tr_cores])\n",
    "        self._total = np.prod(self._shape)\n",
    "        \n",
    "    @property    \n",
    "    def tr_cores(self):\n",
    "        \"\"\"A list of TR-cores.\n",
    "        Returns:\n",
    "          A list of 4d or 5d tensors.\n",
    "        \"\"\"\n",
    "        return self._tr_cores   \n",
    "    \n",
    "    @property\n",
    "    def is_tr_matrix(self):\n",
    "        return self._is_tr_matrix\n",
    "        \n",
    "    def full(self):\n",
    "        num_dims = self._ndims\n",
    "        ranks = self._ranks\n",
    "        shape = self._shape\n",
    "        raw_shape = self._raw_shape\n",
    "        res = self.tr_cores[0]\n",
    "\n",
    "        for core_idx in range(1, num_dims):\n",
    "            curr_core = self.tr_cores[core_idx]\n",
    "#             print('loop', core_idx, curr_core.shape)\n",
    "            res = torch.tensordot(res, curr_core, dims=[[-1], [0]])\n",
    "    \n",
    "        res = torch.einsum('i...i->...', res) # trace  \n",
    "        print(res.shape)\n",
    "        \n",
    "        if self.is_tr_matrix:\n",
    "            transpose = []\n",
    "            for i in range(0, 2 * num_dims, 2):\n",
    "                transpose.append(i)\n",
    "            for i in range(1, 2 * num_dims, 2):\n",
    "                transpose.append(i)\n",
    "            res = res.permute(*transpose)\n",
    "        print(transpose)\n",
    "        if self.is_tr_matrix:\n",
    "            res = res.contiguous().view(*shape)\n",
    "        else:\n",
    "            res = res.view(*shape)\n",
    "        return res\n",
    "    \n",
    "    def to_parameter(self):\n",
    "        new_cores = []\n",
    "        for core in self.tr_cores:\n",
    "            core = nn.Parameter(core)\n",
    "            core.is_tr = True\n",
    "            new_cores.append(core)\n",
    "\n",
    "        tr_p = TensorRing(new_cores, convert_to_tensors=False)\n",
    "        tr_p._parameter = nn.ParameterList(tr_p.tr_cores)        \n",
    "        tr_p._is_parameter = True\n",
    "        return tr_p\n",
    "    "
   ]
  },
  {
   "cell_type": "code",
   "execution_count": 3,
   "metadata": {},
   "outputs": [],
   "source": [
    "r = 1\n",
    "\n",
    "cores = [np.random.normal(size=(r, 4, 3, r)), \n",
    "        np.random.normal(size=(r, 5, 4, r)),\n",
    "        np.random.normal(size=(r, 7, 3, r))\n",
    "        ]\n",
    "x = TensorRing(cores)\n",
    "\n",
    "\n",
    "x2 = t3.TensorTrain(cores)"
   ]
  },
  {
   "cell_type": "code",
   "execution_count": 4,
   "metadata": {},
   "outputs": [
    {
     "name": "stdout",
     "output_type": "stream",
     "text": [
      "torch.Size([4, 3, 5, 4, 7, 3])\n",
      "[0, 2, 4, 1, 3, 5]\n"
     ]
    }
   ],
   "source": [
    "res = x.full()"
   ]
  },
  {
   "cell_type": "code",
   "execution_count": 5,
   "metadata": {},
   "outputs": [],
   "source": [
    "res2 = x2.full()"
   ]
  },
  {
   "cell_type": "code",
   "execution_count": 6,
   "metadata": {},
   "outputs": [
    {
     "data": {
      "text/plain": [
       "tensor([[0., 0., 0.,  ..., 0., 0., 0.],\n",
       "        [0., 0., 0.,  ..., 0., 0., 0.],\n",
       "        [0., 0., 0.,  ..., 0., 0., 0.],\n",
       "        ...,\n",
       "        [0., 0., 0.,  ..., 0., 0., 0.],\n",
       "        [0., 0., 0.,  ..., 0., 0., 0.],\n",
       "        [0., 0., 0.,  ..., 0., 0., 0.]])"
      ]
     },
     "execution_count": 6,
     "metadata": {},
     "output_type": "execute_result"
    }
   ],
   "source": [
    "res - res2"
   ]
  },
  {
   "cell_type": "code",
   "execution_count": 7,
   "metadata": {},
   "outputs": [
    {
     "data": {
      "text/plain": [
       "True"
      ]
     },
     "execution_count": 7,
     "metadata": {},
     "output_type": "execute_result"
    }
   ],
   "source": [
    "x.is_tr_matrix"
   ]
  },
  {
   "cell_type": "code",
   "execution_count": 8,
   "metadata": {},
   "outputs": [],
   "source": [
    "class TREmbedding(nn.Module):\n",
    "    def __init__(self,\n",
    "                 init=None,\n",
    "                 shape=None,\n",
    "                 voc_size=None,\n",
    "                 emb_size=None,\n",
    "                 auto_shapes=None,\n",
    "                 auto_shape_mode='ascending',\n",
    "                 auto_shape_criterion='entropy',\n",
    "                 d=3,\n",
    "                 tr_rank=8,\n",
    "                 batch_dim_last=None,\n",
    "                 padding_idx=None):\n",
    "\n",
    "        super(TREmbedding, self).__init__()\n",
    "\n",
    "        if auto_shapes:\n",
    "            voc_quantization = t3.utils.suggest_shape(\n",
    "                voc_size, d=d, criterion=auto_shape_criterion, mode=auto_shape_mode)\n",
    "            emb_quantization = t3.utils.auto_shape(\n",
    "                emb_size, d=d, criterion=auto_shape_criterion, mode=auto_shape_mode)\n",
    "\n",
    "            shape = [voc_quantization, emb_quantization]\n",
    "            self.shape = shape\n",
    "            \n",
    "        else:\n",
    "            self.shape = shape\n",
    "\n",
    "        if init is None:\n",
    "            if shape is None:\n",
    "                raise ValueError('if init is not provided,'\n",
    "                                 ' please specify shape')\n",
    "        else:\n",
    "            self.shape = init.raw_shape\n",
    "        \n",
    "\n",
    "        if init is None:\n",
    "            init = t3.glorot_initializer_tr(self.shape, tr_rank=tr_rank)\n",
    "\n",
    "        self.tr_matrix = init.to_parameter()\n",
    "        self.parameters = self.tr_matrix.parameter\n",
    "\n",
    "        # for p in self.parameters():\n",
    "        #    p.name = 'tt_core'\n",
    "\n",
    "        self.batch_dim_last = batch_dim_last\n",
    "        self.voc_size = int(np.prod(self.shape[0]))\n",
    "        self.emb_size = int(np.prod(self.shape[1]))\n",
    "\n",
    "        self.voc_quant = self.shape[0]\n",
    "        self.emb_quant = self.shape[1]\n",
    "\n",
    "        self.padding_idx = padding_idx\n",
    "\n",
    "    def forward(self, x):\n",
    "\n",
    "        xshape = list(x.shape)\n",
    "        xshape_new = xshape + [self.emb_size, ]\n",
    "        x = x.view(-1)\n",
    "\n",
    "        # x_ind = t3.ind2sub(self.voc_quant, x)\n",
    "        # rows = t3.gather_rows(self.tt_matrix, x_ind)\n",
    "\n",
    "        # rows = rows.view(x.shape[0], -1)\n",
    "\n",
    "        full = self.tr_matrix.full()\n",
    "        rows = full[x]\n",
    "\n",
    "        if self.padding_idx is not None:\n",
    "            rows = torch.where(x.view(-1, 1) != self.padding_idx, rows, torch.zeros_like(rows))\n",
    "\n",
    "        rows = rows.view(*xshape_new)\n",
    "\n",
    "        return rows.to(x.device)"
   ]
  },
  {
   "cell_type": "code",
   "execution_count": 9,
   "metadata": {},
   "outputs": [],
   "source": [
    "emb = TREmbedding(shape=[10000, 64], voc_size=10000,\n",
    "                 emb_size=64, auto_shapes=True)"
   ]
  },
  {
   "cell_type": "code",
   "execution_count": 10,
   "metadata": {},
   "outputs": [],
   "source": [
    "inp = np.random.randint(0, 10000, 200)\n",
    "inp = torch.LongTensor(inp)"
   ]
  },
  {
   "cell_type": "code",
   "execution_count": 12,
   "metadata": {},
   "outputs": [
    {
     "name": "stdout",
     "output_type": "stream",
     "text": [
      "torch.Size([20, 4, 20, 4, 25, 4])\n",
      "[0, 2, 4, 1, 3, 5]\n"
     ]
    }
   ],
   "source": [
    "out = emb.forward(inp)"
   ]
  },
  {
   "cell_type": "code",
   "execution_count": 13,
   "metadata": {},
   "outputs": [
    {
     "data": {
      "text/plain": [
       "torch.Size([200, 64])"
      ]
     },
     "execution_count": 13,
     "metadata": {},
     "output_type": "execute_result"
    }
   ],
   "source": [
    "out.shape"
   ]
  },
  {
   "cell_type": "code",
   "execution_count": null,
   "metadata": {},
   "outputs": [],
   "source": []
  }
 ],
 "metadata": {
  "kernelspec": {
   "display_name": "Python pytorch",
   "language": "python",
   "name": "pytorch"
  },
  "language_info": {
   "codemirror_mode": {
    "name": "ipython",
    "version": 3
   },
   "file_extension": ".py",
   "mimetype": "text/x-python",
   "name": "python",
   "nbconvert_exporter": "python",
   "pygments_lexer": "ipython3",
   "version": "3.5.4"
  }
 },
 "nbformat": 4,
 "nbformat_minor": 2
}
