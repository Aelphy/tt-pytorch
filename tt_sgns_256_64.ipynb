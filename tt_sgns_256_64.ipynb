{
 "cells": [
  {
   "cell_type": "code",
   "execution_count": 1,
   "metadata": {},
   "outputs": [],
   "source": [
    "import os\n",
    "os.environ[\"CUDA_DEVICE_ORDER\"]=\"PCI_BUS_ID\"\n",
    "os.environ[\"CUDA_VISIBLE_DEVICES\"]=\"6\""
   ]
  },
  {
   "cell_type": "code",
   "execution_count": 2,
   "metadata": {},
   "outputs": [],
   "source": [
    "import torch \n",
    "import numpy as np\n",
    "import torch.nn as nn\n",
    "import t3nsor as t3\n",
    "from torchtext import data\n",
    "from torchtext import datasets\n",
    "import torch.optim as optim\n",
    "import tqdm\n",
    "\n",
    "from sklearn.metrics.pairwise import cosine_similarity\n",
    "import matplotlib.pyplot as plt\n",
    "%matplotlib inline"
   ]
  },
  {
   "cell_type": "code",
   "execution_count": 3,
   "metadata": {},
   "outputs": [],
   "source": [
    "device = torch.device('cuda' if torch.cuda.is_available() else 'cpu')"
   ]
  },
  {
   "cell_type": "markdown",
   "metadata": {},
   "source": [
    "# Corpus loader"
   ]
  },
  {
   "cell_type": "code",
   "execution_count": 4,
   "metadata": {},
   "outputs": [],
   "source": [
    "from sgns.utils import *\n",
    "from sgns.models import *"
   ]
  },
  {
   "cell_type": "code",
   "execution_count": 5,
   "metadata": {},
   "outputs": [],
   "source": [
    "vocab, D = load_corpus(corpus=\"enwik9\")"
   ]
  },
  {
   "cell_type": "code",
   "execution_count": 6,
   "metadata": {},
   "outputs": [],
   "source": [
    "dataset = CorpusDataset(D)"
   ]
  },
  {
   "cell_type": "code",
   "execution_count": 7,
   "metadata": {},
   "outputs": [],
   "source": [
    "vocab_size = D.shape[0]\n",
    "embedding_dim = 256\n",
    "batch_size = 2000"
   ]
  },
  {
   "cell_type": "code",
   "execution_count": 8,
   "metadata": {},
   "outputs": [],
   "source": [
    "emb_model = TTEmbeddings(\n",
    "    vocab_size,\n",
    "    embedding_dim,\n",
    "    tt_shape=[[180, 135], [16, 16]],\n",
    "    tt_rank=64)"
   ]
  },
  {
   "cell_type": "code",
   "execution_count": 9,
   "metadata": {},
   "outputs": [],
   "source": [
    "model = Word2VecSGNS(\n",
    "    emb_model, neg_sampling_param=5, learning_rate=5e-4)"
   ]
  },
  {
   "cell_type": "code",
   "execution_count": null,
   "metadata": {
    "scrolled": true
   },
   "outputs": [
    {
     "name": "stderr",
     "output_type": "stream",
     "text": [
      "13308it [03:00, 73.69it/s]\n"
     ]
    },
    {
     "name": "stdout",
     "output_type": "stream",
     "text": [
      "Loss:  27.866587026433827\n",
      "---------------------\n"
     ]
    },
    {
     "name": "stderr",
     "output_type": "stream",
     "text": [
      "13308it [03:12, 69.14it/s]\n"
     ]
    },
    {
     "name": "stdout",
     "output_type": "stream",
     "text": [
      "Loss:  26.204723789557917\n",
      "---------------------\n"
     ]
    }
   ],
   "source": [
    "epoch_losses = []\n",
    "losses = []\n",
    "\n",
    "for epoch in range(1000):\n",
    "    sampler = CorpusSampler(dataset)\n",
    "    loader = DataLoader(\n",
    "        dataset=dataset,\n",
    "        batch_size=batch_size,\n",
    "        shuffle=False,\n",
    "        num_workers=1,\n",
    "        pin_memory=torch.cuda.is_available(),\n",
    "        sampler=sampler)\n",
    "\n",
    "    for i, batch in tqdm.tqdm(enumerate(loader)):\n",
    "        loss = model.train(batch)\n",
    "        losses.append(loss)\n",
    "\n",
    "    if epoch % 1 == 0:\n",
    "        avg_loss = np.mean(losses)\n",
    "        epoch_losses.append(avg_loss)\n",
    "        losses = []\n",
    "        print (\"Loss: \", avg_loss)\n",
    "        print (\"---------------------\")\n",
    "        np.savez(\"checkpoints/enwik9_256_64/loss.npz\", loss=epoch_losses)\n",
    "        \n",
    "    if epoch % 10 == 0:\n",
    "        torch.save(\n",
    "            model.emb_model.state_dict(),\n",
    "            \"checkpoints/enwik9_256_64/model_\"+str(epoch // 10)+\".pth.tar\")\n",
    "        \n",
    "    dataset.update_negatives()"
   ]
  },
  {
   "cell_type": "code",
   "execution_count": null,
   "metadata": {},
   "outputs": [],
   "source": [
    "ws = torch.LongTensor(np.arange(vocab_size))[None, :]\n",
    "emb_matrix = model.emb_model.w_emb(\n",
    "    ws.to(model._device))[0].detach().cpu().numpy()"
   ]
  },
  {
   "cell_type": "code",
   "execution_count": null,
   "metadata": {},
   "outputs": [],
   "source": [
    "class WordVectors:\n",
    "    \n",
    "    def __init__(self, vocabulary, embedding_matrix):\n",
    "        self.vocab = vocabulary\n",
    "        self.W = embedding_matrix\n",
    "        self.inv_vocab = {v: k for k, v in self.vocab.items()}\n",
    "        \n",
    "    def word_vector(self, word):\n",
    "        \"\"\" Takes word and returns its word vector.\n",
    "        \"\"\"\n",
    "        if word in self.vocab:\n",
    "            vec = self.W[:,int(self.vocab[word])]\n",
    "            vec = vec\n",
    "        else:\n",
    "            print (\"No such word in vocabulary.\")\n",
    "            vec = None\n",
    "            \n",
    "        return vec\n",
    "    \n",
    "    def nearest_words(self, word, top=10, display=False):\n",
    "        \"\"\" Takes word from the vocabulary and returns its top_n\n",
    "        nearest neighbors in terms of cosine similarity.\n",
    "        \"\"\"\n",
    "\n",
    "        vec = self.word_vector(word)[None, :]\n",
    "\n",
    "        cosines = cosine_similarity(self.W.T, vec)[:, 0]\n",
    "        args = np.argsort(cosines)[::-1]       \n",
    "\n",
    "        nws = []\n",
    "        for i in range(1, top+1):\n",
    "            nws.append((self.inv_vocab[args[i]], round(cosines[args[i]], 3)))\n",
    "            if (display):\n",
    "                print (self.inv_vocab[args[i]], round(cosines[args[i]], 3))\n",
    "        return nws"
   ]
  },
  {
   "cell_type": "code",
   "execution_count": null,
   "metadata": {},
   "outputs": [],
   "source": [
    "word_model = WordVectors(vocab, emb_matrix.T)"
   ]
  },
  {
   "cell_type": "code",
   "execution_count": null,
   "metadata": {},
   "outputs": [],
   "source": [
    "word_model.nearest_words(\"one\")"
   ]
  },
  {
   "cell_type": "code",
   "execution_count": null,
   "metadata": {},
   "outputs": [],
   "source": [
    "word_model.nearest_words(\"hitler\")"
   ]
  },
  {
   "cell_type": "code",
   "execution_count": null,
   "metadata": {},
   "outputs": [],
   "source": [
    "plt.plot(epoch_losses)"
   ]
  },
  {
   "cell_type": "code",
   "execution_count": null,
   "metadata": {},
   "outputs": [],
   "source": []
  }
 ],
 "metadata": {
  "kernelspec": {
   "display_name": "Python 3",
   "language": "python",
   "name": "python3"
  },
  "language_info": {
   "codemirror_mode": {
    "name": "ipython",
    "version": 3
   },
   "file_extension": ".py",
   "mimetype": "text/x-python",
   "name": "python",
   "nbconvert_exporter": "python",
   "pygments_lexer": "ipython3",
   "version": "3.6.5"
  }
 },
 "nbformat": 4,
 "nbformat_minor": 2
}
