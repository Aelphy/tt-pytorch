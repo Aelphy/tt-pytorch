{
 "cells": [
  {
   "cell_type": "code",
   "execution_count": 121,
   "metadata": {},
   "outputs": [],
   "source": [
    "import torch\n",
    "import numpy as np\n",
    "import t3f\n",
    "import tensorflow as tf"
   ]
  },
  {
   "cell_type": "code",
   "execution_count": 112,
   "metadata": {
    "collapsed": true
   },
   "outputs": [],
   "source": [
    "class TensorTrainMatrix():\n",
    "    def __init__(self, tt_cores, shape=None, tt_ranks=None, convert_to_tensors=True):  \n",
    "        tt_cores = list(tt_cores)\n",
    "        if convert_to_tensors:\n",
    "            for i in range(len(tt_cores)):\n",
    "                tt_cores[i] = torch.Tensor(tt_cores[i])\n",
    "        \n",
    "        self._tt_cores = tuple(tt_cores)\n",
    "        \n",
    "        self._raw_shape = [[tt_core.shape[1] for tt_core in self._tt_cores],\n",
    "                           [tt_core.shape[2] for tt_core in self._tt_cores]]\n",
    "        \n",
    "        self._shape = [int(np.prod(self._raw_shape[0])), int(np.prod(self._raw_shape[1]))]\n",
    "        \n",
    "          \n",
    "        self._ranks = [tt_core.shape[0] for tt_core in self._tt_cores] + [1,]\n",
    "            \n",
    "        self._ndims = len(self._raw_shape[0])\n",
    "        \n",
    "        \n",
    "    @property\n",
    "    def tt_cores(self):\n",
    "        \"\"\"A tuple of TT-cores.\n",
    "        Returns:\n",
    "          A tuple of 4d tensors of shape\n",
    "            `[r_k-1, n_k, m_k, r_k]`\n",
    "        \"\"\"\n",
    "        return self._tt_cores\n",
    "    \n",
    "    @property\n",
    "    def raw_shape(self):\n",
    "        return self._raw_shape\n",
    "    \n",
    "    \n",
    "    @property\n",
    "    def shape(self):\n",
    "        return self._shape\n",
    "    \n",
    "    @property\n",
    "    def ranks(self):\n",
    "        return self._ranks\n",
    "    \n",
    "    \n",
    "    @property\n",
    "    def ndims(self):\n",
    "        return self._ndims\n",
    "    \n",
    "    def to(device):\n",
    "        for core in self.cores:\n",
    "            core.to(device)\n",
    "            \n",
    "            \n",
    "    def full(self):\n",
    "        num_dims = self.ndims\n",
    "        ranks = self.ranks\n",
    "        shape = self.shape\n",
    "        raw_shape = self.raw_shape\n",
    "        \n",
    "        \n",
    "        res = self.tt_cores[0]\n",
    "        \n",
    "        for i in range(1, num_dims):\n",
    "            res = res.view(-1, ranks[i])\n",
    "            curr_core = self.tt_cores[i].view(ranks[i], -1)\n",
    "            res = torch.matmul(res, curr_core)\n",
    "            \n",
    "            \n",
    "        intermediate_shape = []\n",
    "        for i in range(num_dims):\n",
    "            intermediate_shape.append(raw_shape[0][i])\n",
    "            intermediate_shape.append(raw_shape[1][i])\n",
    "    \n",
    "        res = res.view(*intermediate_shape)\n",
    "        transpose = []\n",
    "        for i in range(0, 2 * num_dims, 2):\n",
    "            transpose.append(i)\n",
    "        for i in range(1, 2 * num_dims, 2):\n",
    "            transpose.append(i)\n",
    "        res = res.permute(*transpose)\n",
    "        res = res.contiguous().view(*shape)\n",
    "        return res\n",
    "    \n",
    "    "
   ]
  },
  {
   "cell_type": "code",
   "execution_count": 113,
   "metadata": {},
   "outputs": [],
   "source": [
    "tt_cores = [np.random.rand(1, 2, 2, 3), np.random.rand(3, 2, 2, 1)]"
   ]
  },
  {
   "cell_type": "code",
   "execution_count": 114,
   "metadata": {},
   "outputs": [],
   "source": [
    "ttm = TensorTrainMatrix(tt_cores)"
   ]
  },
  {
   "cell_type": "code",
   "execution_count": 115,
   "metadata": {},
   "outputs": [
    {
     "data": {
      "text/plain": [
       "[4, 4]"
      ]
     },
     "execution_count": 115,
     "metadata": {},
     "output_type": "execute_result"
    }
   ],
   "source": [
    "ttm.shape"
   ]
  },
  {
   "cell_type": "code",
   "execution_count": 116,
   "metadata": {},
   "outputs": [],
   "source": [
    "res = ttm.full()ee"
   ]
  },
  {
   "cell_type": "code",
   "execution_count": 117,
   "metadata": {},
   "outputs": [
    {
     "data": {
      "text/plain": [
       "tensor([[ 0.5880,  0.5528,  0.9631,  1.0056],\n",
       "        [ 0.8675,  0.6784,  1.3647,  0.9304],\n",
       "        [ 1.3756,  1.3364,  0.9143,  1.0003],\n",
       "        [ 1.8526,  1.1428,  1.3255,  0.9342]])"
      ]
     },
     "execution_count": 117,
     "metadata": {},
     "output_type": "execute_result"
    }
   ],
   "source": [
    "res"
   ]
  },
  {
   "cell_type": "code",
   "execution_count": 118,
   "metadata": {},
   "outputs": [],
   "source": [
    "mat = t3f.TensorTrain(tt_cores)"
   ]
  },
  {
   "cell_type": "code",
   "execution_count": 119,
   "metadata": {},
   "outputs": [
    {
     "data": {
      "text/plain": [
       "<tf.Tensor 'Reshape_3:0' shape=(4, 4) dtype=float64>"
      ]
     },
     "execution_count": 119,
     "metadata": {},
     "output_type": "execute_result"
    }
   ],
   "source": [
    "t3f.full(mat)"
   ]
  },
  {
   "cell_type": "code",
   "execution_count": 122,
   "metadata": {},
   "outputs": [],
   "source": [
    "sess = tf.Session()"
   ]
  },
  {
   "cell_type": "code",
   "execution_count": 123,
   "metadata": {},
   "outputs": [
    {
     "data": {
      "text/plain": [
       "array([[0.58804406, 0.55276174, 0.96309014, 1.00555499],\n",
       "       [0.86747826, 0.67840304, 1.36465704, 0.93035856],\n",
       "       [1.37556302, 1.33642596, 0.91427059, 1.00026065],\n",
       "       [1.85256753, 1.14279743, 1.32545634, 0.93420146]])"
      ]
     },
     "execution_count": 123,
     "metadata": {},
     "output_type": "execute_result"
    }
   ],
   "source": [
    "sess.run(t3f.full(mat))"
   ]
  },
  {
   "cell_type": "code",
   "execution_count": null,
   "metadata": {
    "collapsed": true
   },
   "outputs": [],
   "source": []
  }
 ],
 "metadata": {
  "kernelspec": {
   "display_name": "Environment (conda_anaconda3)",
   "language": "python",
   "name": "conda_anaconda3"
  },
  "language_info": {
   "codemirror_mode": {
    "name": "ipython",
    "version": 3
   },
   "file_extension": ".py",
   "mimetype": "text/x-python",
   "name": "python",
   "nbconvert_exporter": "python",
   "pygments_lexer": "ipython3",
   "version": "3.6.3"
  }
 },
 "nbformat": 4,
 "nbformat_minor": 2
}
