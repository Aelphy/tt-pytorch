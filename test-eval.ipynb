{
 "cells": [
  {
   "cell_type": "code",
   "execution_count": 26,
   "metadata": {},
   "outputs": [],
   "source": [
    "import sys\n",
    "sys.path.insert(0, '..')\n",
    "import subprocess\n",
    "import pickle\n",
    "import pandas as pd\n",
    "import numpy as np"
   ]
  },
  {
   "cell_type": "code",
   "execution_count": 2,
   "metadata": {},
   "outputs": [],
   "source": [
    "script_path = '/workspace/tt-pytorch/word-embeddings-benchmarks/scripts/evaluate_on_all.py'"
   ]
  },
  {
   "cell_type": "code",
   "execution_count": 3,
   "metadata": {},
   "outputs": [],
   "source": [
    "d = {'is':[1.0, 2.0, 3.0], 'cat':[2.0, 4.0, 1.0]}"
   ]
  },
  {
   "cell_type": "code",
   "execution_count": 10,
   "metadata": {},
   "outputs": [],
   "source": [
    "with open('test.pkl', 'wb') as f:\n",
    "    pickle.dump(d, f)"
   ]
  },
  {
   "cell_type": "code",
   "execution_count": 14,
   "metadata": {},
   "outputs": [],
   "source": [
    "script_full = 'python {path} -f {fname} -o {outname}'.format(path=script_path, \n",
    "                                                             fname='test.pkl', \n",
    "                                                             outname='test.csv')"
   ]
  },
  {
   "cell_type": "code",
   "execution_count": 15,
   "metadata": {},
   "outputs": [
    {
     "data": {
      "text/plain": [
       "CompletedProcess(args=['python /workspace/tt-pytorch/word-embeddings-benchmarks/scripts/evaluate_on_all.py -f test.pkl -o test.csv'], returncode=1)"
      ]
     },
     "execution_count": 15,
     "metadata": {},
     "output_type": "execute_result"
    }
   ],
   "source": [
    "subprocess.run([script_full], shell=True)"
   ]
  },
  {
   "cell_type": "code",
   "execution_count": 16,
   "metadata": {},
   "outputs": [
    {
     "data": {
      "text/plain": [
       "'python /workspace/tt-pytorch/word-embeddings-benchmarks/scripts/evaluate_on_all.py -f test.pkl -o test.csv'"
      ]
     },
     "execution_count": 16,
     "metadata": {},
     "output_type": "execute_result"
    }
   ],
   "source": [
    "script_full"
   ]
  },
  {
   "cell_type": "code",
   "execution_count": 18,
   "metadata": {},
   "outputs": [
    {
     "data": {
      "text/html": [
       "<div>\n",
       "<table border=\"1\" class=\"dataframe\">\n",
       "  <thead>\n",
       "    <tr style=\"text-align: right;\">\n",
       "      <th></th>\n",
       "      <th>Unnamed: 0</th>\n",
       "      <th>AP</th>\n",
       "      <th>BLESS</th>\n",
       "      <th>Battig</th>\n",
       "      <th>ESSLI_1a</th>\n",
       "      <th>ESSLI_2b</th>\n",
       "      <th>ESSLI_2c</th>\n",
       "      <th>MEN</th>\n",
       "      <th>MTurk</th>\n",
       "      <th>RG65</th>\n",
       "      <th>RW</th>\n",
       "      <th>SimLex999</th>\n",
       "      <th>TR9856</th>\n",
       "      <th>WS353</th>\n",
       "      <th>WS353R</th>\n",
       "      <th>WS353S</th>\n",
       "      <th>Google</th>\n",
       "      <th>MSR</th>\n",
       "      <th>SemEval2012_2</th>\n",
       "    </tr>\n",
       "  </thead>\n",
       "  <tbody>\n",
       "    <tr>\n",
       "      <th>0</th>\n",
       "      <td>0</td>\n",
       "      <td>0.10199</td>\n",
       "      <td>0.175</td>\n",
       "      <td>0.063468</td>\n",
       "      <td>0.409091</td>\n",
       "      <td>0.425</td>\n",
       "      <td>0.288889</td>\n",
       "      <td>-0.032584</td>\n",
       "      <td>-0.023554</td>\n",
       "      <td>NaN</td>\n",
       "      <td>NaN</td>\n",
       "      <td>0.024913</td>\n",
       "      <td>NaN</td>\n",
       "      <td>-0.05278</td>\n",
       "      <td>NaN</td>\n",
       "      <td>-0.083412</td>\n",
       "      <td>0.0</td>\n",
       "      <td>0.0</td>\n",
       "      <td>0.0</td>\n",
       "    </tr>\n",
       "  </tbody>\n",
       "</table>\n",
       "</div>"
      ],
      "text/plain": [
       "   Unnamed: 0       AP  BLESS    Battig  ESSLI_1a  ESSLI_2b  ESSLI_2c  \\\n",
       "0           0  0.10199  0.175  0.063468  0.409091     0.425  0.288889   \n",
       "\n",
       "        MEN     MTurk  RG65  RW  SimLex999  TR9856    WS353  WS353R    WS353S  \\\n",
       "0 -0.032584 -0.023554   NaN NaN   0.024913     NaN -0.05278     NaN -0.083412   \n",
       "\n",
       "   Google  MSR  SemEval2012_2  \n",
       "0     0.0  0.0            0.0  "
      ]
     },
     "execution_count": 18,
     "metadata": {},
     "output_type": "execute_result"
    }
   ],
   "source": [
    "pd.read_csv('test.csv')"
   ]
  },
  {
   "cell_type": "code",
   "execution_count": 22,
   "metadata": {},
   "outputs": [
    {
     "data": {
      "text/plain": [
       "['is', 'cat']"
      ]
     },
     "execution_count": 22,
     "metadata": {},
     "output_type": "execute_result"
    }
   ],
   "source": [
    "list(d.keys())"
   ]
  },
  {
   "cell_type": "code",
   "execution_count": 23,
   "metadata": {},
   "outputs": [
    {
     "data": {
      "text/plain": [
       "{'is': 1, 'cat': 2}"
      ]
     },
     "execution_count": 23,
     "metadata": {},
     "output_type": "execute_result"
    }
   ],
   "source": [
    "dict(zip(list(d.keys()), [1 , 2]))"
   ]
  },
  {
   "cell_type": "code",
   "execution_count": 24,
   "metadata": {},
   "outputs": [
    {
     "data": {
      "text/plain": [
       "2"
      ]
     },
     "execution_count": 24,
     "metadata": {},
     "output_type": "execute_result"
    }
   ],
   "source": [
    "len(d)"
   ]
  },
  {
   "cell_type": "code",
   "execution_count": 28,
   "metadata": {},
   "outputs": [
    {
     "data": {
      "text/plain": [
       "[array([0.65397689, 0.28414196, 0.72571217]),\n",
       " array([0.79903767, 0.59588968, 0.0133869 ]),\n",
       " array([0.03037192, 0.32131103, 0.8170753 ])]"
      ]
     },
     "execution_count": 28,
     "metadata": {},
     "output_type": "execute_result"
    }
   ],
   "source": [
    "list(np.random.rand(3, 3))"
   ]
  },
  {
   "cell_type": "code",
   "execution_count": 36,
   "metadata": {},
   "outputs": [],
   "source": [
    "def evaluate_embed(vocab, embeds):\n",
    "    if len(vocab) < embeds.shape[0]:\n",
    "        embeds = embeds[:len(vocab), :]\n",
    "        \n",
    "    d = dict(zip(list(vocab.keys()), list(embeds)))\n",
    "    \n",
    "    \n",
    "    fin = '/workspace/tt-pytorch/tmp.pkl'\n",
    "    fout = '/workspace/tt-pytorch/tmp.csv'\n",
    "    \n",
    "    \n",
    "    with open(fin, 'wb') as f:\n",
    "        pickle.dump(d, f)\n",
    "        \n",
    "    path = '/workspace/tt-pytorch/word-embeddings-benchmarks/scripts/evaluate_on_all.py'\n",
    "    script_full = 'python {path} --file {fname} --output {outname}'.format(path=path, \n",
    "                                                                 fname=fin, \n",
    "                                                                 outname=fout)\n",
    "    \n",
    "    subprocess.run([script_full], shell=True)\n",
    "    df = pd.read_csv(fout)\n",
    "\n",
    "    return df\n"
   ]
  },
  {
   "cell_type": "code",
   "execution_count": null,
   "metadata": {},
   "outputs": [],
   "source": []
  }
 ],
 "metadata": {
  "kernelspec": {
   "display_name": "Python 3",
   "language": "python",
   "name": "python3"
  },
  "language_info": {
   "codemirror_mode": {
    "name": "ipython",
    "version": 3
   },
   "file_extension": ".py",
   "mimetype": "text/x-python",
   "name": "python",
   "nbconvert_exporter": "python",
   "pygments_lexer": "ipython3",
   "version": "3.6.5"
  }
 },
 "nbformat": 4,
 "nbformat_minor": 2
}
