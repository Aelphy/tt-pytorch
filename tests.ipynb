{
 "cells": [
  {
   "cell_type": "code",
   "execution_count": 49,
   "metadata": {},
   "outputs": [
    {
     "name": "stdout",
     "output_type": "stream",
     "text": [
      "The autoreload extension is already loaded. To reload it, use:\n",
      "  %reload_ext autoreload\n"
     ]
    }
   ],
   "source": [
    "%load_ext autoreload \n",
    "%autoreload 2"
   ]
  },
  {
   "cell_type": "code",
   "execution_count": 50,
   "metadata": {
    "collapsed": true
   },
   "outputs": [],
   "source": [
    "import os\n",
    "os.environ[\"CUDA_DEVICE_ORDER\"]=\"PCI_BUS_ID\"  \n",
    "os.environ[\"CUDA_VISIBLE_DEVICES\"]=\"2\""
   ]
  },
  {
   "cell_type": "code",
   "execution_count": 51,
   "metadata": {
    "collapsed": true
   },
   "outputs": [],
   "source": [
    "import torch \n",
    "import numpy as np"
   ]
  },
  {
   "cell_type": "code",
   "execution_count": 52,
   "metadata": {
    "collapsed": true
   },
   "outputs": [],
   "source": [
    "import tttorch as ttt"
   ]
  },
  {
   "cell_type": "code",
   "execution_count": 53,
   "metadata": {
    "collapsed": true
   },
   "outputs": [],
   "source": [
    "device = torch.device(\"cuda:0\" if torch.cuda.is_available() else \"cpu\")"
   ]
  },
  {
   "cell_type": "code",
   "execution_count": 54,
   "metadata": {
    "collapsed": true
   },
   "outputs": [],
   "source": [
    "mat = ttt.random_matrix([[2, 2, 2, 2], [3, 3, 3, 3]])"
   ]
  },
  {
   "cell_type": "code",
   "execution_count": 55,
   "metadata": {},
   "outputs": [
    {
     "name": "stdout",
     "output_type": "stream",
     "text": [
      "A TT-Matrix of size 16 x 81, underlying tensorshape: [2, 2, 2, 2] x [3, 3, 3, 3], TT-ranks: [1, 2, 2, 2, 1] \n",
      " on device 'cpu' \n"
     ]
    }
   ],
   "source": [
    "print(mat)"
   ]
  },
  {
   "cell_type": "code",
   "execution_count": 56,
   "metadata": {
    "collapsed": true
   },
   "outputs": [],
   "source": [
    "mat.to(device)"
   ]
  },
  {
   "cell_type": "code",
   "execution_count": 57,
   "metadata": {},
   "outputs": [
    {
     "name": "stdout",
     "output_type": "stream",
     "text": [
      "A TT-Matrix of size 16 x 81, underlying tensorshape: [2, 2, 2, 2] x [3, 3, 3, 3], TT-ranks: [1, 2, 2, 2, 1] \n",
      " on device 'cpu' \n"
     ]
    }
   ],
   "source": [
    "print(mat)"
   ]
  },
  {
   "cell_type": "code",
   "execution_count": 58,
   "metadata": {
    "collapsed": true
   },
   "outputs": [],
   "source": [
    "mat.detach()"
   ]
  },
  {
   "cell_type": "code",
   "execution_count": 59,
   "metadata": {},
   "outputs": [
    {
     "name": "stdout",
     "output_type": "stream",
     "text": [
      "A TT-Matrix of size 16 x 81, underlying tensorshape: [2, 2, 2, 2] x [3, 3, 3, 3], TT-ranks: [1, 2, 2, 2, 1] \n",
      " on device 'cpu' \n"
     ]
    }
   ],
   "source": [
    "print(mat)"
   ]
  },
  {
   "cell_type": "code",
   "execution_count": 60,
   "metadata": {},
   "outputs": [],
   "source": [
    "m = mat.full()"
   ]
  },
  {
   "cell_type": "code",
   "execution_count": 62,
   "metadata": {},
   "outputs": [],
   "source": [
    "mat2 = ttt.to_tt_matrix(m, shape=[[2, 2, 2, 2], [3, 3, 3, 3]])"
   ]
  },
  {
   "cell_type": "code",
   "execution_count": 68,
   "metadata": {
    "collapsed": true
   },
   "outputs": [],
   "source": [
    "mat = ttt.random_matrix([[2, 2, 2, 2], [3, 3, 3, 3]], tt_rank=5)"
   ]
  },
  {
   "cell_type": "code",
   "execution_count": 89,
   "metadata": {},
   "outputs": [
    {
     "data": {
      "text/plain": [
       "torch.Size([1, 2, 3, 5])"
      ]
     },
     "execution_count": 89,
     "metadata": {},
     "output_type": "execute_result"
    }
   ],
   "source": [
    "mat.tt_cores[0].shape"
   ]
  },
  {
   "cell_type": "code",
   "execution_count": 69,
   "metadata": {},
   "outputs": [
    {
     "name": "stdout",
     "output_type": "stream",
     "text": [
      "torch.Size([1, 2, 3, 5])\n",
      "torch.Size([5, 2, 3, 5])\n",
      "torch.Size([5, 2, 3, 5])\n",
      "torch.Size([5, 2, 3, 1])\n"
     ]
    }
   ],
   "source": [
    "for core in mat.tt_cores:\n",
    "    print(core.shape)"
   ]
  },
  {
   "cell_type": "code",
   "execution_count": 76,
   "metadata": {
    "collapsed": true
   },
   "outputs": [],
   "source": [
    "def ind2sub(siz, idx):\n",
    "    '''\n",
    "    Translates full-format index into tt.vector one's.\n",
    "    ----------\n",
    "    Parameters:\n",
    "        siz - tt.vector modes\n",
    "        idx - full-vector index\n",
    "    Note: not vectorized.\n",
    "    '''\n",
    "    n = len(siz)\n",
    "    subs = np.empty((n))\n",
    "    k = np.cumprod(siz[:-1])\n",
    "    k = np.concatenate((np.ones(1), k))\n",
    "    for i in range(n - 1, -1, -1):\n",
    "        subs[i] = np.floor(idx / k[i])\n",
    "        idx = idx % k[i]\n",
    "    return subs.astype(np.int32)"
   ]
  },
  {
   "cell_type": "code",
   "execution_count": 116,
   "metadata": {},
   "outputs": [],
   "source": [
    "def ind2sub_torch(siz, idx):\n",
    "    n = len(siz)\n",
    "    b = len(idx)\n",
    "    subs = []\n",
    "    k = np.cumprod(siz[:-1])\n",
    "    k = np.concatenate((np.ones(1), k))\n",
    "    \n",
    "\n",
    "    for i in range(n - 1, -1, -1):\n",
    "        subs.append(torch.floor(idx.float() / k[i]))\n",
    "        idx = torch.fmod(idx, k[i])\n",
    "        \n",
    "        \n",
    "    return torch.stack(subs, dim=1)\n",
    "        \n",
    "    \n",
    "    "
   ]
  },
  {
   "cell_type": "code",
   "execution_count": 121,
   "metadata": {},
   "outputs": [
    {
     "data": {
      "text/plain": [
       "[[2, 2, 2, 2], [3, 3, 3, 3]]"
      ]
     },
     "execution_count": 121,
     "metadata": {},
     "output_type": "execute_result"
    }
   ],
   "source": [
    "mat.raw_shape"
   ]
  },
  {
   "cell_type": "code",
   "execution_count": 118,
   "metadata": {},
   "outputs": [
    {
     "data": {
      "text/plain": [
       "tensor([[ 0.,  0.,  0.],\n",
       "        [ 0.,  0.,  1.],\n",
       "        [ 0.,  1.,  0.],\n",
       "        [ 0.,  1.,  1.],\n",
       "        [ 0.,  2.,  0.],\n",
       "        [ 0.,  2.,  1.],\n",
       "        [ 1.,  0.,  0.],\n",
       "        [ 1.,  0.,  1.]])"
      ]
     },
     "execution_count": 118,
     "metadata": {},
     "output_type": "execute_result"
    }
   ],
   "source": [
    "ind2sub_torch([2, 3, 2], torch.LongTensor([0, 1, 2, 3, 4, 5, 6, 7]))"
   ]
  }
 ],
 "metadata": {
  "kernelspec": {
   "display_name": "Python 3",
   "language": "python",
   "name": "python3"
  },
  "language_info": {
   "codemirror_mode": {
    "name": "ipython",
    "version": 3
   },
   "file_extension": ".py",
   "mimetype": "text/x-python",
   "name": "python",
   "nbconvert_exporter": "python",
   "pygments_lexer": "ipython3",
   "version": "3.6.3"
  }
 },
 "nbformat": 4,
 "nbformat_minor": 2
}
